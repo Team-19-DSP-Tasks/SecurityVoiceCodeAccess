{
 "cells": [
  {
   "cell_type": "markdown",
   "metadata": {},
   "source": [
    "## Imports\n"
   ]
  },
  {
   "cell_type": "code",
   "execution_count": 148,
   "metadata": {},
   "outputs": [],
   "source": [
    "import librosa\n",
    "import librosa.display\n",
    "import IPython.display as ipd\n",
    "import os \n",
    "import numpy as np\n",
    "from fastdtw import fastdtw\n",
    "import pandas as pd\n",
    "import matplotlib as plt\n",
    "from sklearn.metrics.pairwise import cosine_similarity\n"
   ]
  },
  {
   "cell_type": "markdown",
   "metadata": {},
   "source": [
    "## Extraction"
   ]
  },
  {
   "cell_type": "code",
   "execution_count": 149,
   "metadata": {},
   "outputs": [],
   "source": [
    "def extract_combined_features(file_path):\n",
    "    x, sample_rate = librosa.load(file_path)\n",
    "    \n",
    "    # MFCC extraction\n",
    "    mfcc = np.mean(librosa.feature.mfcc(y=x, sr=sample_rate, n_mfcc=50), axis=1)\n",
    "    \n",
    "    # # Chroma Features extraction\n",
    "    # chroma = np.mean(librosa.feature.chroma_stft(y=x, sr=sample_rate), axis=1)\n",
    "    \n",
    "    # Zero Crossing Rate (ZCR) calculation\n",
    "    zcr = np.mean(librosa.feature.zero_crossing_rate(y=x), axis=1)\n",
    "    \n",
    "    # # Spectral Centroid\n",
    "    # centroid = np.mean(librosa.feature.spectral_centroid(y=x, sr=sample_rate), axis=1)\n",
    "    \n",
    "    # # Spectral Contrast\n",
    "    # contrast = np.mean(librosa.feature.spectral_contrast(y=x, sr=sample_rate), axis=1)\n",
    "    \n",
    "    # Combine features\n",
    "    combined_features = np.concatenate([mfcc, zcr ])\n",
    "    \n",
    "    return combined_features"
   ]
  },
  {
   "cell_type": "code",
   "execution_count": 150,
   "metadata": {},
   "outputs": [],
   "source": [
    "def calculate_dtw_distance(reference_seq, test_seq):\n",
    "    distance,_ = fastdtw(reference_seq, test_seq)\n",
    "    return distance"
   ]
  },
  {
   "cell_type": "code",
   "execution_count": 151,
   "metadata": {},
   "outputs": [],
   "source": [
    "def calculate_cross_correlation(signal1, signal2):\n",
    "    cross_corr = np.correlate(signal1, signal2, mode='same')\n",
    "    return cross_corr"
   ]
  },
  {
   "cell_type": "code",
   "execution_count": 152,
   "metadata": {},
   "outputs": [
    {
     "name": "stdout",
     "output_type": "stream",
     "text": [
      "[25.193821360496763, 29.34710487741361, 25.249608462896056, 26.018207443631553, 27.44255288856941, 25.4024023743203, 27.30598228875875, 25.405416889904092, 27.30507910424054, 26.657793989897836, 29.74306579037257]\n",
      "[1098.0585691568065, 808.2575356127617, 1075.958933538466, 970.9973957216874, 880.4068975028699, 1066.5161766762749, 885.0883369806375, 1065.8190125159576, 934.6706687243449, 960.6049227625658, 746.2518526892952]\n",
      "[0.86220842 0.99307769 0.86668214 0.87715608 0.93595352 0.86417511\n",
      " 0.9265825  0.87392093 0.92386026 0.90678764 1.        ]\n",
      "[0.9998948206618873, 0.9994524879660023, 0.9999415419006449, 0.9994211841592576, 0.9995102515192292, 0.9997710511787458, 0.9995359708069048, 0.9999603744450288, 0.9996307284160807, 0.9997407729272055, 0.9991550938562475]\n"
     ]
    }
   ],
   "source": [
    "input_combined_features_1 = extract_combined_features(\"Sami Grant me access/output_file_4.wav\")\n",
    "input_combined_features_2 = extract_combined_features(\"Same Open Middle door/output_file.wav\")\n",
    "input_combined_features_3 = extract_combined_features(\"Sami Unlock the gate/output_file.wav\")\n",
    "input_combined_features_4 = extract_combined_features(\"Reham grant me access/output_file.wav\")\n",
    "input_combined_features_5 = extract_combined_features(\"Reham unlock the gate/output_file.wav\")\n",
    "input_combined_features_6 = extract_combined_features(\"Kareem Grant me access/Grant me access 01.wav\")\n",
    "\n",
    "mean_features = []\n",
    "distances = []\n",
    "cor = []\n",
    "similarities = []  # Store cosine similarities here\n",
    "\n",
    "\n",
    "directory = \"Sami Grant me access/\"\n",
    "for audio in os.listdir(directory):\n",
    "    audio_path = directory + audio\n",
    "    combined_features = extract_combined_features(audio_path)\n",
    "    distance = calculate_dtw_distance(combined_features, input_combined_features_6)\n",
    "    distances.append(distance)\n",
    "    cross_cor = calculate_cross_correlation(combined_features,input_combined_features_6)\n",
    "    cor.append(cross_cor)\n",
    "    # Calculate cosine similarity between the extracted features and input_combined_features_3\n",
    "    similarity = cosine_similarity(combined_features.reshape(1, -1), input_combined_features_3.reshape(1, -1))[0][0]\n",
    "    similarities.append(similarity)\n",
    "    mean_feature = np.mean(combined_features, axis=0)  # Calculate mean along axis=0\n",
    "    mean_features.append(mean_feature)\n",
    "print(mean_features)\n",
    "print(distances)\n",
    "\n",
    "# Calculate mean for each array in the cor list\n",
    "mean_cor = np.mean(cor, axis=1)\n",
    "# Normalize using the maximum value as the normalizing factor\n",
    "max_value = np.max(mean_cor)\n",
    "normalized_mean_cor = mean_cor / max_value\n",
    "\n",
    "print(normalized_mean_cor)\n",
    "print(similarities)\n",
    "\n"
   ]
  }
 ],
 "metadata": {
  "kernelspec": {
   "display_name": "Python 3",
   "language": "python",
   "name": "python3"
  },
  "language_info": {
   "codemirror_mode": {
    "name": "ipython",
    "version": 3
   },
   "file_extension": ".py",
   "mimetype": "text/x-python",
   "name": "python",
   "nbconvert_exporter": "python",
   "pygments_lexer": "ipython3",
   "version": "3.11.5"
  }
 },
 "nbformat": 4,
 "nbformat_minor": 2
}
